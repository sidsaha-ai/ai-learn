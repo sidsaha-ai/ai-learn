{
 "cells": [
  {
   "cell_type": "code",
   "execution_count": 67,
   "metadata": {},
   "outputs": [],
   "source": [
    "import torch\n",
    "from ngram.dataset import Dataset\n",
    "from ngram.encoder import Encoder\n",
    "from sdk.batch_norm import BatchNorm\n",
    "from sdk.cross_entropy import CrossEntropy\n",
    "from sdk.embeddings import Embedding\n",
    "from sdk.flatten import Flatten\n",
    "from sdk.linear import Linear\n",
    "from sdk.plotter import Plotter\n",
    "from sdk.sequential import Sequential\n",
    "from sdk.tanh import Tanh\n",
    "from torch import Tensor\n",
    "from torch.nn import functional as F"
   ]
  },
  {
   "cell_type": "code",
   "execution_count": 68,
   "metadata": {},
   "outputs": [],
   "source": [
    "filepath = '../makemore/data/names.txt'\n",
    "input_words = []\n",
    "with open(filepath, encoding='utf-8') as f:\n",
    "    input_words = f.read().splitlines()"
   ]
  },
  {
   "cell_type": "code",
   "execution_count": 79,
   "metadata": {},
   "outputs": [],
   "source": [
    "context_length = 8"
   ]
  },
  {
   "cell_type": "code",
   "execution_count": 80,
   "metadata": {},
   "outputs": [],
   "source": [
    "encoder = Encoder()\n",
    "dataset = Dataset(input_words=input_words, context_length=context_length)"
   ]
  },
  {
   "cell_type": "code",
   "execution_count": 92,
   "metadata": {},
   "outputs": [],
   "source": [
    "# layers\n",
    "embedding_dim: int = 10\n",
    "num_hidden: int = 200\n",
    "\n",
    "model = Sequential([\n",
    "    Embedding(num_embeddings=len(encoder.ltoi), embedding_dim=embedding_dim),\n",
    "    Flatten(),\n",
    "\n",
    "    Linear(in_features=dataset.train_inputs.shape[1] * embedding_dim, out_features=num_hidden, nonlinearity='tanh'),\n",
    "    BatchNorm(num_features=num_hidden),\n",
    "    Tanh(),\n",
    "\n",
    "    Linear(in_features=num_hidden, out_features=len(encoder.ltoi), nonlinearity=None),\n",
    "])\n",
    "\n",
    "loss_fn = CrossEntropy()"
   ]
  },
  {
   "cell_type": "code",
   "execution_count": 93,
   "metadata": {},
   "outputs": [
    {
     "data": {
      "text/plain": [
       "torch.Size([182516, 8])"
      ]
     },
     "execution_count": 93,
     "metadata": {},
     "output_type": "execute_result"
    }
   ],
   "source": [
    "dataset.train_inputs.shape"
   ]
  },
  {
   "cell_type": "code",
   "execution_count": 94,
   "metadata": {},
   "outputs": [
    {
     "name": "stdout",
     "output_type": "stream",
     "text": [
      "torch.Size([4, 8])\n"
     ]
    },
    {
     "data": {
      "text/plain": [
       "tensor([[ 0,  0,  0,  0,  0,  0,  0,  2],\n",
       "        [ 0,  0,  0,  0,  0,  0,  0,  0],\n",
       "        [ 0,  0,  0,  0, 19, 15, 22,  5],\n",
       "        [ 0,  0,  0,  0,  0,  0,  0, 18]])"
      ]
     },
     "execution_count": 94,
     "metadata": {},
     "output_type": "execute_result"
    }
   ],
   "source": [
    "ix = torch.randint(0, dataset.train_inputs.shape[0], (4,))\n",
    "Xb, Yb = dataset.train_inputs[ix], dataset.train_targets[ix]  # mini-batch of 4 examples\n",
    "logits = model(Xb)\n",
    "print(Xb.shape)\n",
    "Xb"
   ]
  },
  {
   "cell_type": "code",
   "execution_count": 95,
   "metadata": {},
   "outputs": [
    {
     "name": "stdout",
     "output_type": "stream",
     "text": [
      "Embedding, torch.Size([4, 8, 10])\n",
      "Flatten, torch.Size([4, 80])\n",
      "Linear, torch.Size([4, 200])\n",
      "BatchNorm, torch.Size([4, 200])\n",
      "Tanh, torch.Size([4, 200])\n",
      "Linear, torch.Size([4, 27])\n"
     ]
    }
   ],
   "source": [
    "for layer in model.layers:\n",
    "    print(f'{layer.__class__.__name__}, {layer.output.shape}')"
   ]
  },
  {
   "cell_type": "code",
   "execution_count": 99,
   "metadata": {},
   "outputs": [
    {
     "data": {
      "text/plain": [
       "torch.Size([4, 5, 200])"
      ]
     },
     "execution_count": 99,
     "metadata": {},
     "output_type": "execute_result"
    }
   ],
   "source": [
    "((torch.randn(4, 5, 80) @ torch.randn(80, 200)) + torch.randn(200)).shape"
   ]
  },
  {
   "cell_type": "code",
   "execution_count": 109,
   "metadata": {},
   "outputs": [
    {
     "name": "stdout",
     "output_type": "stream",
     "text": [
      "torch.int64\n"
     ]
    },
    {
     "data": {
      "text/plain": [
       "tensor([[[[-1.6214e+00, -2.8306e-03, -1.8308e+00,  1.6377e-01,  4.3264e-01,\n",
       "            7.5099e-02,  1.9898e+00,  1.0147e+00,  7.1080e-02, -1.2500e+00],\n",
       "          [-2.7088e-01, -7.2826e-02,  1.7824e+00, -2.1410e-01,  3.7664e-02,\n",
       "           -1.0301e+00,  2.0842e-01, -2.7404e-01, -2.2529e+00, -9.6986e-01]],\n",
       "\n",
       "         [[-2.7088e-01, -7.2826e-02,  1.7824e+00, -2.1410e-01,  3.7664e-02,\n",
       "           -1.0301e+00,  2.0842e-01, -2.7404e-01, -2.2529e+00, -9.6986e-01],\n",
       "          [-1.6214e+00, -2.8306e-03, -1.8308e+00,  1.6377e-01,  4.3264e-01,\n",
       "            7.5099e-02,  1.9898e+00,  1.0147e+00,  7.1080e-02, -1.2500e+00]],\n",
       "\n",
       "         [[ 9.1957e-01,  2.3894e-01,  7.9507e-01, -7.8506e-01, -7.4417e-01,\n",
       "            1.1262e+00,  1.6870e+00, -7.5643e-01, -9.0460e-02, -4.0857e-01],\n",
       "          [-2.7088e-01, -7.2826e-02,  1.7824e+00, -2.1410e-01,  3.7664e-02,\n",
       "           -1.0301e+00,  2.0842e-01, -2.7404e-01, -2.2529e+00, -9.6986e-01]],\n",
       "\n",
       "         [[ 4.8032e-01,  2.4502e+00,  1.2691e+00,  7.8784e-01, -3.1605e-01,\n",
       "            5.9446e-01,  4.1769e-02, -1.5167e-01, -9.1066e-01, -9.6020e-01],\n",
       "          [-1.4204e+00, -4.6989e-01, -3.7218e-01,  1.3949e+00,  1.0043e+00,\n",
       "            5.6078e-02,  5.4415e-01,  1.6613e+00,  1.7022e+00, -1.0110e+00]]],\n",
       "\n",
       "\n",
       "        [[[-1.4321e-01, -2.5317e-01,  9.6723e-01,  2.2143e-01,  3.3801e-01,\n",
       "           -4.8889e-01,  1.2355e+00,  3.0245e+00,  1.2979e-01, -1.6240e+00],\n",
       "          [-1.0170e+00, -1.3955e+00,  1.8891e+00,  2.6858e+00,  9.3812e-01,\n",
       "            7.4599e-02, -2.4942e+00,  6.0890e-01,  2.7740e-01,  5.2656e-01]],\n",
       "\n",
       "         [[ 4.6913e-01, -2.2956e-01, -9.4375e-02,  9.9997e-03, -1.3535e+00,\n",
       "            2.7267e+00, -1.2273e-01,  5.8572e-01, -7.3587e-01, -4.7357e-01],\n",
       "          [-1.6214e+00, -2.8306e-03, -1.8308e+00,  1.6377e-01,  4.3264e-01,\n",
       "            7.5099e-02,  1.9898e+00,  1.0147e+00,  7.1080e-02, -1.2500e+00]],\n",
       "\n",
       "         [[-1.4321e-01, -2.5317e-01,  9.6723e-01,  2.2143e-01,  3.3801e-01,\n",
       "           -4.8889e-01,  1.2355e+00,  3.0245e+00,  1.2979e-01, -1.6240e+00],\n",
       "          [ 4.6913e-01, -2.2956e-01, -9.4375e-02,  9.9997e-03, -1.3535e+00,\n",
       "            2.7267e+00, -1.2273e-01,  5.8572e-01, -7.3587e-01, -4.7357e-01]],\n",
       "\n",
       "         [[-1.4204e+00, -4.6989e-01, -3.7218e-01,  1.3949e+00,  1.0043e+00,\n",
       "            5.6078e-02,  5.4415e-01,  1.6613e+00,  1.7022e+00, -1.0110e+00],\n",
       "          [-1.0170e+00, -1.3955e+00,  1.8891e+00,  2.6858e+00,  9.3812e-01,\n",
       "            7.4599e-02, -2.4942e+00,  6.0890e-01,  2.7740e-01,  5.2656e-01]]],\n",
       "\n",
       "\n",
       "        [[[ 4.8032e-01,  2.4502e+00,  1.2691e+00,  7.8784e-01, -3.1605e-01,\n",
       "            5.9446e-01,  4.1769e-02, -1.5167e-01, -9.1066e-01, -9.6020e-01],\n",
       "          [-1.4321e-01, -2.5317e-01,  9.6723e-01,  2.2143e-01,  3.3801e-01,\n",
       "           -4.8889e-01,  1.2355e+00,  3.0245e+00,  1.2979e-01, -1.6240e+00]],\n",
       "\n",
       "         [[-1.4204e+00, -4.6989e-01, -3.7218e-01,  1.3949e+00,  1.0043e+00,\n",
       "            5.6078e-02,  5.4415e-01,  1.6613e+00,  1.7022e+00, -1.0110e+00],\n",
       "          [ 1.7591e-01, -7.3134e-01,  1.2422e+00, -3.8689e-01, -2.0293e+00,\n",
       "           -2.3637e+00, -2.0654e+00, -1.0714e+00, -1.0999e+00,  2.5638e-01]],\n",
       "\n",
       "         [[-1.6214e+00, -2.8306e-03, -1.8308e+00,  1.6377e-01,  4.3264e-01,\n",
       "            7.5099e-02,  1.9898e+00,  1.0147e+00,  7.1080e-02, -1.2500e+00],\n",
       "          [-1.0170e+00, -1.3955e+00,  1.8891e+00,  2.6858e+00,  9.3812e-01,\n",
       "            7.4599e-02, -2.4942e+00,  6.0890e-01,  2.7740e-01,  5.2656e-01]],\n",
       "\n",
       "         [[-2.7088e-01, -7.2826e-02,  1.7824e+00, -2.1410e-01,  3.7664e-02,\n",
       "           -1.0301e+00,  2.0842e-01, -2.7404e-01, -2.2529e+00, -9.6986e-01],\n",
       "          [-1.0170e+00, -1.3955e+00,  1.8891e+00,  2.6858e+00,  9.3812e-01,\n",
       "            7.4599e-02, -2.4942e+00,  6.0890e-01,  2.7740e-01,  5.2656e-01]]],\n",
       "\n",
       "\n",
       "        [[[ 6.6942e-01,  6.2194e-01, -1.5990e-01, -1.0342e+00,  2.3207e-01,\n",
       "            4.1510e-01,  1.2547e-01,  1.5695e+00, -6.4013e-01,  1.3101e+00],\n",
       "          [ 4.8032e-01,  2.4502e+00,  1.2691e+00,  7.8784e-01, -3.1605e-01,\n",
       "            5.9446e-01,  4.1769e-02, -1.5167e-01, -9.1066e-01, -9.6020e-01]],\n",
       "\n",
       "         [[ 4.8032e-01,  2.4502e+00,  1.2691e+00,  7.8784e-01, -3.1605e-01,\n",
       "            5.9446e-01,  4.1769e-02, -1.5167e-01, -9.1066e-01, -9.6020e-01],\n",
       "          [-1.4204e+00, -4.6989e-01, -3.7218e-01,  1.3949e+00,  1.0043e+00,\n",
       "            5.6078e-02,  5.4415e-01,  1.6613e+00,  1.7022e+00, -1.0110e+00]],\n",
       "\n",
       "         [[ 9.1957e-01,  2.3894e-01,  7.9507e-01, -7.8506e-01, -7.4417e-01,\n",
       "            1.1262e+00,  1.6870e+00, -7.5643e-01, -9.0460e-02, -4.0857e-01],\n",
       "          [-1.4204e+00, -4.6989e-01, -3.7218e-01,  1.3949e+00,  1.0043e+00,\n",
       "            5.6078e-02,  5.4415e-01,  1.6613e+00,  1.7022e+00, -1.0110e+00]],\n",
       "\n",
       "         [[-1.4321e-01, -2.5317e-01,  9.6723e-01,  2.2143e-01,  3.3801e-01,\n",
       "           -4.8889e-01,  1.2355e+00,  3.0245e+00,  1.2979e-01, -1.6240e+00],\n",
       "          [-2.7088e-01, -7.2826e-02,  1.7824e+00, -2.1410e-01,  3.7664e-02,\n",
       "           -1.0301e+00,  2.0842e-01, -2.7404e-01, -2.2529e+00, -9.6986e-01]]]],\n",
       "       grad_fn=<IndexBackward0>)"
      ]
     },
     "execution_count": 109,
     "metadata": {},
     "output_type": "execute_result"
    }
   ],
   "source": [
    "inputs = torch.randint(0, 10, (4, 8))\n",
    "inputs = inputs.view(4, 4, 2)\n",
    "print(inputs.dtype)\n",
    "\n",
    "model.layers[0](inputs)"
   ]
  },
  {
   "cell_type": "code",
   "execution_count": null,
   "metadata": {},
   "outputs": [],
   "source": []
  }
 ],
 "metadata": {
  "kernelspec": {
   "display_name": "Python (AI Learn Env)",
   "language": "python",
   "name": "ai_learn_env"
  },
  "language_info": {
   "codemirror_mode": {
    "name": "ipython",
    "version": 3
   },
   "file_extension": ".py",
   "mimetype": "text/x-python",
   "name": "python",
   "nbconvert_exporter": "python",
   "pygments_lexer": "ipython3",
   "version": "3.12.4"
  }
 },
 "nbformat": 4,
 "nbformat_minor": 2
}
