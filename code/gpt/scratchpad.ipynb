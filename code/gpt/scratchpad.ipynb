{
 "cells": [
  {
   "cell_type": "code",
   "execution_count": 1,
   "metadata": {},
   "outputs": [],
   "source": [
    "from novels_generator.code.epub_reader import EPubReader"
   ]
  },
  {
   "cell_type": "code",
   "execution_count": 2,
   "metadata": {},
   "outputs": [
    {
     "name": "stderr",
     "output_type": "stream",
     "text": [
      "/Users/siddharthsaha/python_envs/ai_learn_env/lib/python3.12/site-packages/ebooklib/epub.py:1395: UserWarning: In the future version we will turn default option ignore_ncx to True.\n",
      "  warnings.warn('In the future version we will turn default option ignore_ncx to True.')\n",
      "/Users/siddharthsaha/python_envs/ai_learn_env/lib/python3.12/site-packages/ebooklib/epub.py:1423: FutureWarning: This search incorrectly ignores the root element, and will be fixed in a future version.  If you rely on the current behaviour, change it to './/xmlns:rootfile[@media-type]'\n",
      "  for root_file in tree.findall('//xmlns:rootfile[@media-type]', namespaces={'xmlns': NAMESPACES['CONTAINERNS']}):\n"
     ]
    },
    {
     "ename": "TypeError",
     "evalue": "EpubBook.get_metadata() missing 2 required positional arguments: 'namespace' and 'name'",
     "output_type": "error",
     "traceback": [
      "\u001b[0;31m---------------------------------------------------------------------------\u001b[0m",
      "\u001b[0;31mTypeError\u001b[0m                                 Traceback (most recent call last)",
      "Cell \u001b[0;32mIn[2], line 3\u001b[0m\n\u001b[1;32m      1\u001b[0m reader \u001b[38;5;241m=\u001b[39m EPubReader()\n\u001b[1;32m      2\u001b[0m filepath \u001b[38;5;241m=\u001b[39m \u001b[38;5;124m'\u001b[39m\u001b[38;5;124m/Users/siddharthsaha/Desktop/my_code/ai-learn/code/novels_generator/data/marrying_the_enemy.epub\u001b[39m\u001b[38;5;124m'\u001b[39m\n\u001b[0;32m----> 3\u001b[0m \u001b[43mreader\u001b[49m\u001b[38;5;241;43m.\u001b[39;49m\u001b[43mread\u001b[49m\u001b[43m(\u001b[49m\u001b[43mfilepath\u001b[49m\u001b[43m)\u001b[49m\n",
      "File \u001b[0;32m~/Desktop/my_code/ai-learn/code/novels_generator/code/epub_reader.py:19\u001b[0m, in \u001b[0;36mEPubReader.read\u001b[0;34m(self, filepath)\u001b[0m\n\u001b[1;32m     16\u001b[0m book \u001b[38;5;241m=\u001b[39m epub\u001b[38;5;241m.\u001b[39mread_epub(filepath)\n\u001b[1;32m     18\u001b[0m \u001b[38;5;66;03m# let's print all the metadata\u001b[39;00m\n\u001b[0;32m---> 19\u001b[0m metadata \u001b[38;5;241m=\u001b[39m \u001b[43mbook\u001b[49m\u001b[38;5;241;43m.\u001b[39;49m\u001b[43mget_metadata\u001b[49m\u001b[43m(\u001b[49m\u001b[43m)\u001b[49m\n\u001b[1;32m     20\u001b[0m \u001b[38;5;28;01mfor\u001b[39;00m namespace, meta_list \u001b[38;5;129;01min\u001b[39;00m metadata\u001b[38;5;241m.\u001b[39mitems():\n\u001b[1;32m     21\u001b[0m     \u001b[38;5;28mprint\u001b[39m(\u001b[38;5;124mf\u001b[39m\u001b[38;5;124m'\u001b[39m\u001b[38;5;124mNamespace: \u001b[39m\u001b[38;5;132;01m{\u001b[39;00mnamespace\u001b[38;5;132;01m}\u001b[39;00m\u001b[38;5;124m'\u001b[39m)\n",
      "\u001b[0;31mTypeError\u001b[0m: EpubBook.get_metadata() missing 2 required positional arguments: 'namespace' and 'name'"
     ]
    }
   ],
   "source": [
    "reader = EPubReader()\n",
    "filepath = '/Users/siddharthsaha/Desktop/my_code/ai-learn/code/novels_generator/data/marrying_the_enemy.epub'\n",
    "reader.read(filepath)"
   ]
  },
  {
   "cell_type": "code",
   "execution_count": 8,
   "metadata": {},
   "outputs": [],
   "source": [
    "import ebooklib\n",
    "from ebooklib import epub"
   ]
  },
  {
   "cell_type": "code",
   "execution_count": 9,
   "metadata": {},
   "outputs": [
    {
     "name": "stderr",
     "output_type": "stream",
     "text": [
      "/Users/siddharthsaha/python_envs/ai_learn_env/lib/python3.12/site-packages/ebooklib/epub.py:1395: UserWarning: In the future version we will turn default option ignore_ncx to True.\n",
      "  warnings.warn('In the future version we will turn default option ignore_ncx to True.')\n",
      "/Users/siddharthsaha/python_envs/ai_learn_env/lib/python3.12/site-packages/ebooklib/epub.py:1423: FutureWarning: This search incorrectly ignores the root element, and will be fixed in a future version.  If you rely on the current behaviour, change it to './/xmlns:rootfile[@media-type]'\n",
      "  for root_file in tree.findall('//xmlns:rootfile[@media-type]', namespaces={'xmlns': NAMESPACES['CONTAINERNS']}):\n"
     ]
    }
   ],
   "source": [
    "book = epub.read_epub(filepath)"
   ]
  },
  {
   "cell_type": "code",
   "execution_count": 28,
   "metadata": {},
   "outputs": [],
   "source": [
    "current_item = None\n",
    "num = 0\n",
    "for item in book.get_items():\n",
    "    if item.get_type() == ebooklib.ITEM_DOCUMENT:\n",
    "        num += 1\n",
    "        current_item = item\n",
    "        if num >= 8:\n",
    "            break\n"
   ]
  },
  {
   "cell_type": "code",
   "execution_count": 30,
   "metadata": {},
   "outputs": [
    {
     "name": "stdout",
     "output_type": "stream",
     "text": [
      "Chapter_Two\n",
      "Chapter_Two.xhtml\n",
      "True\n"
     ]
    }
   ],
   "source": [
    "print(current_item.get_id())\n",
    "print(current_item.get_name())\n",
    "print(current_item.is_chapter())"
   ]
  },
  {
   "cell_type": "code",
   "execution_count": 34,
   "metadata": {},
   "outputs": [
    {
     "data": {
      "text/plain": [
       "b'&#13;\\n\\t\\t<section epub:type=\"chapter\" id=\"_idContainer007\" role=\"doc-chapter\">&#13;\\n\\t\\t\\t<h1 class=\"ch\"><a id=\"_idTextAnchor001\"/>CHAPTER TWO</h1>&#13;\\n\\t\\t\\t<p class=\"body-text-opening\"><span class=\"sc\">W</span><span class=\"sc-epub\">HEN</span> <span class=\"sc-epub\">HER</span> <span class=\"sc-epub\">LAST</span> friend had paired up with a woman wearing bright blue lipstick and an armful of bangles, Eve had caught a rideshare back to the hotel\\xe2\\x80\\x94which was the <span class=\"italic\">real</span> crime she was committing here in Budapest. If her family knew she was staying in a WBE hotel, they would drag her out by the hair.</p>&#13;\\n\\t\\t\\t<p class=\"body-text\">Eve hadn\\xe2\\x80\\x99t realized where they were booked until they arrived. Hailey\\xe2\\x80\\x99s uncle had paid for everything as a graduation gift to his niece. As their guest, Eve hadn\\xe2\\x80\\x99t wanted to make a fuss so here she was, waking alone in a mini-suite that was as luxurious as any of the Visconti hotels.</p>&#13;\\n\\t\\t\\t<p class=\"body-text\">She hadn\\xe2\\x80\\x99t really slept. She blamed the alcohol and Hailey not coming back, but she knew what the real issue was. Dom had left her in a state of arousal that kept her fantasizing about a kiss she hadn\\xe2\\x80\\x99t received. She had spent the restless hours imagining he had brought her back to this hotel and did more than kiss her.</p>&#13;\\n\\t\\t\\t<p class=\"body-text\">At six thirty, when the sun came up and other early-morning joggers had started to emerge on the streets below, she dressed for a run.</p>&#13;\\n\\t\\t\\t<p class=\"body-text\">She was skimming through her playlists as she waited for the elevator when the doors opened to reveal <span class=\"italic\">him</span>. Dom.</p>&#13;\\n\\t\\t\\t<p class=\"body-text\">A jolt of electricity gripped her, freezing her in place.</p>&#13;\\n\\t\\t\\t<p class=\"body-text\">\\xe2\\x80\\x9cAre you just getting home?\\xe2\\x80\\x9d she asked, even though he wore gym shorts, sneakers and a plain blue T-shirt.</p>&#13;\\n\\t\\t\\t<p class=\"body-text\">He shot out a hand to hold the door. \\xe2\\x80\\x9cI can\\xe2\\x80\\x99t sleep.\\xe2\\x80\\x9d His growled voice seemed to blame her for that, which sent a flutter of smug pleasure into her chest.</p>&#13;\\n\\t\\t\\t<p class=\"body-text\">A wispy scent of risk stung her nostrils, though, even as anticipation teased her stomach. She had cursed herself for not speaking to him before she left, not that she knew how to invite a man to her room. The carefree come-hither woman she\\xe2\\x80\\x99d been a few hours ago was long gone, leaving a tongue-tied virgin who was blushing over the thoughts she\\xe2\\x80\\x99d been thinking all night.</p>&#13;\\n\\t\\t\\t<p class=\"body-text\">\\xe2\\x80\\x9cDo you have your own room?\\xe2\\x80\\x9d he asked in that same gritty, intent tone.</p>&#13;\\n\\t\\t\\t<p class=\"body-text\">Or he could just invite himself, she thought with mild hysteria. The churn of nervous excitement increased in her abdomen. Be good? Or...?</p>&#13;\\n\\t\\t\\t<p class=\"body-text\">\\xe2\\x80\\x9cMy roommate isn\\xe2\\x80\\x99t back yet.\\xe2\\x80\\x9d She tried to project a sophistication she didn\\xe2\\x80\\x99t possess. \\xe2\\x80\\x9cWould you like to see it?\\xe2\\x80\\x9d</p>&#13;\\n\\t\\t\\t<p class=\"body-text\">\\xe2\\x80\\x9cI would.\\xe2\\x80\\x9d He stepped out, seeming bigger in daylight than he had at the club. More intimidating.</p>&#13;\\n\\t\\t\\t<p class=\"body-text\">He\\xe2\\x80\\x99d showered off the sweat of the club, but hadn\\xe2\\x80\\x99t shaved. The edges of his beard were scruffy, his eyes alert, but sunken into the dark circles of a sleepless night.</p>&#13;\\n\\t\\t\\t<p class=\"body-text\">He nodded in a command for her to lead the way.</p>&#13;\\n\\t\\t\\t<p class=\"body-text\">Her blood turned to champagne, bubbling and fizzing as she walked, making her feel lightheaded. She wished that she was wearing her club clothes, not this bust-flattening sports bra and baggy shorts with a windbreaker colored for visibility, not flattery.</p>&#13;\\n\\t\\t\\t<p class=\"body-text\">Nervously, she let him into the sitting room. The pair of queen beds was visible through the open double doors to the bedroom. Hailey\\xe2\\x80\\x99s bed was untouched, the other was tousled, revealing her fitful sleep.</p>&#13;\\n\\t\\t\\t<p class=\"body-text\">She waved in a lame <span class=\"italic\">Here it is </span>gesture. She had opened the drapes when she rose. The view of the river and the historic architecture on the far side was beautiful.</p>&#13;\\n\\t\\t\\t<p class=\"body-text\">\\xe2\\x80\\x9cIt\\xe2\\x80\\x99s great,\\xe2\\x80\\x9d he said, not taking his eyes off her. \\xe2\\x80\\x9cDo you have condoms?\\xe2\\x80\\x9d</p>&#13;\\n\\t\\t\\t<p class=\"body-text\">Wow. She held his stare and swallowed the heart that had risen into her throat.</p>&#13;\\n\\t\\t\\t<p class=\"body-text\">She could have demurred and told him he was moving too fast, but he wasn\\xe2\\x80\\x99t. That was the weirdest thing. In any other case, such earthy bluntness would turn her off, but something more intuitive inside her was responding to his wavelength. She liked knowing he was feeling exactly as urgent as she did. It flooded her with erotic heat and more yearning than she could stand.</p>&#13;\\n\\t\\t\\t<p class=\"body-text\">\\xe2\\x80\\x9cYes,\\xe2\\x80\\x9d she replied, because Hailey had made sure she knew there were some in the nightstand if she needed them.</p>&#13;\\n\\t\\t\\t<p class=\"body-text\">\\xe2\\x80\\x9cDo you want to show me where they are?\\xe2\\x80\\x9d He sounded as though he was being deliberately careful and neutral, not sarcastic. Perhaps he realized how aggressive he was sounding and wanted to give her an opportunity for second thoughts.</p>&#13;\\n\\t\\t\\t<p class=\"body-text\">All she had to say was \\xe2\\x80\\x9cno.\\xe2\\x80\\x9d She could easily tell him she\\xe2\\x80\\x99d rather go on her run and would see him at breakfast. She could open the door and say nothing at all. Her hand was still on the latch.</p>&#13;\\n\\t\\t\\t<p class=\"body-text\">But her fingers were twitching to explore his smooth arms and she wanted to nuzzle her nose into his throat. Her lips were still dying for the press of his and the rest of her... The rest of her really, really wanted to know how his naked body would feel against hers. How his erection would feel inside her.</p>&#13;\\n\\t\\t\\t<p class=\"body-text\">Her knees felt wobbly as she walked into the bedroom and opened the nightstand to take out the box. She set it beside the base of the lamp then kept her back to him, struck by bashfulness.</p>&#13;\\n\\t\\t\\t<p class=\"body-text\">His weighty steps were silent on the thick carpet, but she felt his energy like a force as he arrived behind her. The heat of his body pressed like a physical touch against her back.</p>&#13;\\n\\t\\t\\t<p class=\"body-text\">\\xe2\\x80\\x9cWhat are you wearing under that?\\xe2\\x80\\x9d His voice was a velvety caress in and of itself.</p>&#13;\\n\\t\\t\\t<p class=\"body-text\">She turned and started to lift her hands to the zip, intending to show him, but realized she was still holding her phone. She tossed it onto her unmade bed and took hold of her collar with one hand, then slowly, slowly, drew her zip down.</p>&#13;\\n\\t\\t\\t<p class=\"body-text\">He watched the descent of the tab the way a cat gave its single-minded attention to an unsuspecting prey, but his chin dipped in the smallest nod of approval as she let the jacket fall open to reveal her mauve bra.</p>&#13;\\n\\t\\t\\t<p class=\"body-text\">\\xe2\\x80\\x9cSexy, right?\\xe2\\x80\\x9d she said of its flattening fit.</p>&#13;\\n\\t\\t\\t<p class=\"body-text\">\\xe2\\x80\\x9cVery,\\xe2\\x80\\x9d he said in a low rumble.</p>&#13;\\n\\t\\t\\t<p class=\"body-text\">He stepped closer and touched her chin. She thought he was going to kiss her, but his gaze slid to her throat. A faint smile eased the line of his stern mouth. He trailed his fingertip down to where he\\xe2\\x80\\x99d left the barely-there shadow of a love bite.</p>&#13;\\n\\t\\t\\t<p class=\"body-text\">\\xe2\\x80\\x9cI want to cover you with those.\\xe2\\x80\\x9d His voice was raspy from his late night and something else. Want?</p>&#13;\\n\\t\\t\\t<p class=\"body-text\">\\xe2\\x80\\x9cMaybe I\\xe2\\x80\\x99ll do the same to you,\\xe2\\x80\\x9d she suggested boldly.</p>&#13;\\n\\t\\t\\t<p class=\"body-text\">\\xe2\\x80\\x9cBe my guest.\\xe2\\x80\\x9d He took hold of the open edges of her jacket and drew her into him.</p>&#13;\\n\\t\\t\\t<p class=\"body-text\">She instinctively brought her hands up, but they only landed on the satin smoothness of his bare upper arms.</p>&#13;\\n\\t\\t\\t<p class=\"body-text\">\\xe2\\x80\\x9cYou drove me crazy all night, Evie.\\xe2\\x80\\x9d He released her jacket and his wide hands slid inside to splay against her bare waist.</p>&#13;\\n\\t\\t\\t<p class=\"body-text\">She gasped at his hot, possessive touch. Her skin tightened and tingled while her brain short-circuited over the way he had turned her name into an endearment.</p>&#13;\\n\\t\\t\\t<p class=\"body-text\">\\xe2\\x80\\x9cAll I could think about was having your long legs around my waist. Around my neck.\\xe2\\x80\\x9d</p>&#13;\\n\\t\\t\\t<p class=\"body-text\">Oh, that was dirty. Why did she find it so titillating? A helpless sob thrummed in her throat.</p>&#13;\\n\\t\\t\\t<p class=\"body-text\">\\xe2\\x80\\x9cMy roommate might come back,\\xe2\\x80\\x9d she warned, voice as abraded as his.</p>&#13;\\n\\t\\t\\t<p class=\"body-text\">\\xe2\\x80\\x9cDoes that turn you on?\\xe2\\x80\\x9d He traced tickling patterns in her lower back that made her squirm in reaction and press closer to him in an attempt to escape it. \\xe2\\x80\\x9cThat we might get caught?\\xe2\\x80\\x9d</p>&#13;\\n\\t\\t\\t<p class=\"body-text\">\\xe2\\x80\\x9cNo.\\xe2\\x80\\x9d Yes. A little. Her senses were being bombarded by a lot right now. The heat and hardness and scent of him. The touch that was both light and merciless at the same time. A sense of anticipation and wonder and nervousness of the unknown.</p>&#13;\\n\\t\\t\\t<p class=\"body-text\">\\xe2\\x80\\x9cDo you want to lock the bedroom door?\\xe2\\x80\\x9d he asked.</p>&#13;\\n\\t\\t\\t<p class=\"body-text\">She should, but his hands were sliding into her shorts at the back, pushing them off her butt cheeks along with her underwear, leaving her backside bare to the cool room and the exploring massage of his hot palms.</p>&#13;\\n\\t\\t\\t<p class=\"body-text\">It was incredibly disconcerting. She felt vulnerable and wicked and turned on. His roaming, claiming touch incited her to the point she could hardly speak, let alone move to do something so practical as...</p>&#13;\\n\\t\\t\\t<p class=\"body-text\">\\xe2\\x80\\x9cI want you to kiss me,\\xe2\\x80\\x9d she confessed in an aching whisper.</p>&#13;\\n\\t\\t\\t<p class=\"body-text\">His reaction was a noise of approval and a firming of his hands on her ass. He dipped his head to capture her lips with his own.</p>&#13;\\n\\t\\t\\t<p class=\"body-text\">This man knew how to kiss. Maybe there would have been a gentler preamble if they hadn\\xe2\\x80\\x99t spent last night priming themselves for this moment, but he slicked his tongue between her lips, creating a damp seal that allowed him to consume her then he <span class=\"italic\">did</span>.</p>&#13;\\n\\t\\t\\t<p class=\"body-text\">Helplessly, she swept her arms up to cling around his neck, arching into him so she could find and feel his erection again. His hands on her backside pressed her mons firmly into that implacable ridge while he hungrily rocked his mouth against her own.</p>&#13;\\n\\t\\t\\t<p class=\"body-text\">This was what she had wanted last night. What she had always wanted. Passionate oblivion. He was strong and sure and she instinctually knew he would keep her safe while absolutely ravishing her. She rubbed blatantly against him, stoking the heat that was gathering in her loins, seeking pressure against the knot of nerves that was swollen with every libidinous thought she\\xe2\\x80\\x99d had of him and a thousand new ones.</p>&#13;\\n\\t\\t\\t<p class=\"body-text\">\\xe2\\x80\\x9cI want that, too,\\xe2\\x80\\x9d he said, holding her hips tight to his as he lifted his head.</p>&#13;\\n\\t\\t\\t<p class=\"body-text\">She was panting, so disoriented she wondered if she\\xe2\\x80\\x99d spoken her thoughts aloud, but she couldn\\xe2\\x80\\x99t have. Her mouth had been occupied.</p>&#13;\\n\\t\\t\\t<p class=\"body-text\">He kept her hips braced in his wide hands and ground his erection against her, making her eyelids flutter.</p>&#13;\\n\\t\\t\\t<p class=\"body-text\">This was a perilous moment, she realized with muted alarm. Not because he seemed to be violent or cruel, but the way he drew her so effortlessly into acting without inhibition was sobering. She liked to believe she was a strong, confident, independent woman, but this stranger was using her own sensuality to undermine her sense and willpower.</p>&#13;\\n\\t\\t\\t<p class=\"body-text\">He proved it by casually skimming her shorts down her legs, taking her underwear with them.</p>&#13;\\n\\t\\t\\t<p class=\"body-text\">She gasped in surprise, but her only struggle was the fight to get her shod feet free. She should have unlaced and removed her shoes, but he was peeling his shirt over his head and catching her close again.</p>&#13;\\n\\t\\t\\t<p class=\"body-text\">A small cry escaped her. The heat of him! He was tensile muscle and silky hair and slow, wicked hands as he guided her to rub her near-naked chest against his. She moaned, reveling in the brush of skin on skin, not realizing he was easing her onto the bed because it happened so effortlessly. She was too enthralled with mapping his back with her fingertips and using her inner thigh to caress his leg. His arm was a hard band around her, his other hand feathered touches behind her thigh and into the heat between.</p>&#13;\\n\\t\\t\\t<p class=\"body-text\">His knee went onto the mattress as the cool bottom sheet arrived against her back. He stretched out alongside her, bracing on an elbow as he pushed her bra up to reveal her breasts.</p>&#13;\\n\\t\\t\\t<p class=\"body-text\">\\xe2\\x80\\x9cI want to tangle you up in this thing and have my way with you. Would you like that?\\xe2\\x80\\x9d He caught the arm that was between them and tucked it under her lower back. The position arched her breasts up to him while lightly trapping her. He bent to lick at her pouted nipple, making it contract into a taut, sensitized peak.</p>&#13;\\n\\t\\t\\t<p class=\"body-text\">\\xe2\\x80\\x9cYou\\xe2\\x80\\x99re a little bit kinky, aren\\xe2\\x80\\x99t you?\\xe2\\x80\\x9d she accused breathlessly, turned on but also overwhelmed by his casual control. She was half-naked, still wearing her shoes, excited, but also wary. \\xe2\\x80\\x9cDo we need a safe word?\\xe2\\x80\\x9d</p>&#13;\\n\\t\\t\\t<p class=\"body-text\">\\xe2\\x80\\x9c\\xe2\\x80\\x98No\\xe2\\x80\\x99 works. Do you want me to stop?\\xe2\\x80\\x9d His golden-brown eyes glittered with amusement as they met hers.</p>&#13;\\n\\t\\t\\t<p class=\"body-text\">\\xe2\\x80\\x9cYou\\xe2\\x80\\x99re evil,\\xe2\\x80\\x9d she accused, since she couldn\\xe2\\x80\\x99t answer his question without risking that he would, in fact, stop. \\xe2\\x80\\x9cKeep going.\\xe2\\x80\\x9d</p>&#13;\\n\\t\\t\\t<p class=\"body-text\">\\xe2\\x80\\x9cTell me what you like.\\xe2\\x80\\x9d He watched his hand as he trailed his touch down her quivering abdomen to the damp line of her folds. He lightly traced the seam, his touch stirring the fine hairs there until she thought she would die of need.</p>&#13;\\n\\t\\t\\t<p class=\"body-text\">She bit her lip, breath catching.</p>&#13;\\n\\t\\t\\t<p class=\"body-text\">\\xe2\\x80\\x9cYou have to tell me you want this, Evie. Open your legs if you don\\xe2\\x80\\x99t want to say it.\\xe2\\x80\\x9d</p>&#13;\\n\\t\\t\\t<p class=\"body-text\">She did. And she closed her eyes because it felt so flagrant to offer herself this way, but he made it worth it. A rumbled noise of approval resounded in his chest as he found her damp with readiness. He opened his mouth over her nipple and sucked while he explored her intimately, stoking the fire that was threatening to consume her. He circled where she pulsed and delved into the ache with one long finger, sliding and caressing while he pulled at her nipple until she thought she would die.</p>&#13;\\n\\t\\t\\t<p class=\"body-text\">It was too good. She twisted in agonized pleasure, moaning with torture, tense with the struggle of fighting off a climax that had been building since she\\xe2\\x80\\x99d danced with him.</p>&#13;\\n\\t\\t\\t<p class=\"body-text\">She had never orgasmed with anyone else in the room. Definitely not from someone else delivering it. It made her feel incredibly exposed to let him play with her this way, but the pleasure was so acute, so relentless, she was losing the fight.</p>&#13;\\n\\t\\t\\t<p class=\"body-text\">He released her nipple. \\xe2\\x80\\x9cDo you want my mouth here?\\xe2\\x80\\x9d He slowly pressed a second finger into her then eased his touch up to press the swollen, needy, shivering bundle of nerves.</p>&#13;\\n\\t\\t\\t<p class=\"body-text\">It was the final straw. The coiled tension within her released. She groaned long and loud, catching at his hand to hold it against her mound as she abandoned anything like dignity and bucked, consumed by ecstasy.</p>&#13;\\n\\t\\t\\t<p class=\"body-text\">His mouth smothered hers, capturing her moans while he caressed her through the crisis and into the shuddering aftermath.</p>&#13;\\n\\t\\t\\t<p class=\"body-text\">Then he chuckled and freed her arm from beneath her. He shifted over her. His arms caged her beneath him as he settled his still clothed hips against the damp, overly sensitive flesh of her bare pelvis. His hand took hold of her hair in a fist that was just tight enough to keep her head still while he kissed her again, deep and hungry, dragging at her lips and searching out her tongue with his own.</p>&#13;\\n\\t\\t\\t<p class=\"body-text\">\\xe2\\x80\\x9cI\\xe2\\x80\\x99m going to be buried in you to the root when you do that again,\\xe2\\x80\\x9d he promised when he let her up to breathe.</p>&#13;\\n\\t\\t\\t<p class=\"body-text\">She couldn\\xe2\\x80\\x99t wait. She roamed her hands over his back and into his shorts at his hip, shyly moving her touch forward, but stalling when she heard the muffled xylophone keys of an incoming call on her phone.</p>&#13;\\n\\t\\t\\t<p class=\"body-text\">\\xe2\\x80\\x9cMy mother,\\xe2\\x80\\x9d she muttered in apology. She pulled her hand free of his shorts and searched beneath the bunched blanket where the phone had slid. \\xe2\\x80\\x9cI\\xe2\\x80\\x99ll turn it off.\\xe2\\x80\\x9d</p>&#13;\\n\\t\\t\\t<p class=\"body-text\">As she drew it from the sheets, however, Dom grabbed her wrist. He stared at the screen.</p>&#13;\\n\\t\\t\\t<p class=\"body-text\">\\xe2\\x80\\x9cHow the hell do you know that man?\\xe2\\x80\\x9d His voice had gone ice-cold.</p>&#13;\\n\\t\\t\\t<p class=\"body-text\">Jealous? Because it wasn\\xe2\\x80\\x99t Ginny Visconti.</p>&#13;\\n\\t\\t\\t<p class=\"body-text\">\\xe2\\x80\\x9cThat\\xe2\\x80\\x99s Nico. My brother,\\xe2\\x80\\x9d she said dismissively.</p>&#13;\\n\\t\\t\\t<p class=\"body-text\">Dom pushed off the bed. Her lover of seconds ago had left the room, the building and the country. <span class=\"italic\">This</span> was a man who was dangerous.</p>&#13;\\n\\t\\t\\t<p class=\"body-text\">\\xe2\\x80\\x9cYou\\xe2\\x80\\x99re Evelina Visconti?\\xe2\\x80\\x9d His lip curled with repulsion.</p>&#13;\\n\\t\\t\\t<p class=\"body-text\">\\xe2\\x80\\x9cYes?\\xe2\\x80\\x9d She ought to sound more certain. She knew who she was. Kind of. She had never behaved like this with anyone so she was a bit of a stranger to herself in this moment. She was definitely someone else to him, though. Someone he didn\\xe2\\x80\\x99t like.</p>&#13;\\n\\t\\t\\t<p class=\"body-text\">She reached for the edge of the sheet.</p>&#13;\\n\\t\\t\\t<p class=\"body-text\">\\xe2\\x80\\x9cGet the hell out of my hotel.\\xe2\\x80\\x9d</p>&#13;\\n\\t\\t\\t<p class=\"body-text\">\\xe2\\x80\\x9cYour\\xe2\\x80\\x94What?\\xe2\\x80\\x9d She sat up, trying to drag her bra back into place while tucking the blankets across her naked lower half, but he\\xe2\\x80\\x99d already seen everything and was looking at her as though he found her to be the lowest form of filth. \\xe2\\x80\\x9cYou\\xe2\\x80\\x99re not...\\xe2\\x80\\x9d He couldn\\xe2\\x80\\x99t be. But his name was suddenly drumming in her ears. Dom, Dom, Dom. \\xe2\\x80\\x9cYou\\xe2\\x80\\x99re not Domenico <span class=\"italic\">Blackwood</span>.\\xe2\\x80\\x9d</p>&#13;\\n\\t\\t\\t<p class=\"body-text\">As in Winslow-Blackwood Enterprises? WBE. <span class=\"italic\">No.</span></p>&#13;\\n\\t\\t\\t<p class=\"body-text\">\\xe2\\x80\\x9cDon\\xe2\\x80\\x99t pretend that\\xe2\\x80\\x99s a shock. What the hell is this? Do you have cameras in here or something?\\xe2\\x80\\x9d He looked around while pulling his shirt over his head.</p>&#13;\\n\\t\\t\\t<p class=\"body-text\">\\xe2\\x80\\x9cWhat? No! That\\xe2\\x80\\x99s disgusting.\\xe2\\x80\\x9d</p>&#13;\\n\\t\\t\\t<p class=\"body-text\">\\xe2\\x80\\x9cIt is disgusting that you would do something like this. I can\\xe2\\x80\\x99t believe how low your family stoops.\\xe2\\x80\\x9d</p>&#13;\\n\\t\\t\\t<p class=\"body-text\">\\xe2\\x80\\x9cYou came onto me,\\xe2\\x80\\x9d she cried. \\xe2\\x80\\x9cYou asked to see my room! And my condoms.\\xe2\\x80\\x9d Along with her breasts and her body and, apparently, her humiliation. She had thought the rivalry between the Blackwoods and Viscontis was ancient history, but it was real and here and she suddenly felt very sick. \\xe2\\x80\\x9cDid <span class=\"italic\">you</span> plan this?\\xe2\\x80\\x9d</p>&#13;\\n\\t\\t\\t<p class=\"body-text\"><span class=\"italic\">\\xe2\\x80\\x9cNo.\\xe2\\x80\\x9d</span> He looked as outraged at the accusation as she had been. \\xe2\\x80\\x9cI would have had you removed if I\\xe2\\x80\\x99d known you were staying here. I\\xe2\\x80\\x99m going to have you removed now.\\xe2\\x80\\x9d</p>&#13;\\n\\t\\t\\t<p class=\"body-text\">\\xe2\\x80\\x9cGet out of here and I\\xe2\\x80\\x99ll remove myself.\\xe2\\x80\\x9d She hated that crack in her voice. And the scald in her throat that was climbing to press behind her eyes.</p>&#13;\\n\\t\\t\\t<p class=\"body-text\">\\xe2\\x80\\x9cYou don\\xe2\\x80\\x99t tell me where I go in my own hotel.\\xe2\\x80\\x9d He punctuated that with a derisive point. Contempt flashed in his bronze gaze as his gaze flickered to the sheet across her waist. \\xe2\\x80\\x9cDon\\xe2\\x80\\x99t try to use this against me. I\\xe2\\x80\\x99ll bury you.\\xe2\\x80\\x9d</p>&#13;\\n\\t\\t\\t<p class=\"body-text\">\\xe2\\x80\\x9cSame to you,\\xe2\\x80\\x9d she said in such a puerile response, it only earned her a snort and a final, dismissive curl of his lip.</p>&#13;\\n\\t\\t\\t<p class=\"body-text\">\\xe2\\x80\\x9cSecurity will be here in twenty minutes. You had better not be.\\xe2\\x80\\x9d He walked out.</p>&#13;\\n\\t\\t</section>&#13;\\n\\t'"
      ]
     },
     "execution_count": 34,
     "metadata": {},
     "output_type": "execute_result"
    }
   ],
   "source": [
    "current_item.get_body_content()"
   ]
  },
  {
   "cell_type": "code",
   "execution_count": null,
   "metadata": {},
   "outputs": [],
   "source": []
  }
 ],
 "metadata": {
  "kernelspec": {
   "display_name": "Python (AI Learn Env)",
   "language": "python",
   "name": "ai_learn_env"
  },
  "language_info": {
   "codemirror_mode": {
    "name": "ipython",
    "version": 3
   },
   "file_extension": ".py",
   "mimetype": "text/x-python",
   "name": "python",
   "nbconvert_exporter": "python",
   "pygments_lexer": "ipython3",
   "version": "3.12.4"
  }
 },
 "nbformat": 4,
 "nbformat_minor": 2
}
