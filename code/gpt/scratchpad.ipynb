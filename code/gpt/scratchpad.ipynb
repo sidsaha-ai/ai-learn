{
 "cells": [
  {
   "cell_type": "code",
   "execution_count": 1,
   "metadata": {},
   "outputs": [],
   "source": [
    "from novels_generator.code.epub_reader import EPubReader"
   ]
  },
  {
   "cell_type": "code",
   "execution_count": 2,
   "metadata": {},
   "outputs": [
    {
     "name": "stderr",
     "output_type": "stream",
     "text": [
      "/Users/siddharthsaha/python_envs/ai_learn_env/lib/python3.12/site-packages/ebooklib/epub.py:1395: UserWarning: In the future version we will turn default option ignore_ncx to True.\n",
      "  warnings.warn('In the future version we will turn default option ignore_ncx to True.')\n",
      "/Users/siddharthsaha/python_envs/ai_learn_env/lib/python3.12/site-packages/ebooklib/epub.py:1423: FutureWarning: This search incorrectly ignores the root element, and will be fixed in a future version.  If you rely on the current behaviour, change it to './/xmlns:rootfile[@media-type]'\n",
      "  for root_file in tree.findall('//xmlns:rootfile[@media-type]', namespaces={'xmlns': NAMESPACES['CONTAINERNS']}):\n"
     ]
    },
    {
     "ename": "TypeError",
     "evalue": "EpubBook.get_metadata() missing 2 required positional arguments: 'namespace' and 'name'",
     "output_type": "error",
     "traceback": [
      "\u001b[0;31m---------------------------------------------------------------------------\u001b[0m",
      "\u001b[0;31mTypeError\u001b[0m                                 Traceback (most recent call last)",
      "Cell \u001b[0;32mIn[2], line 3\u001b[0m\n\u001b[1;32m      1\u001b[0m reader \u001b[38;5;241m=\u001b[39m EPubReader()\n\u001b[1;32m      2\u001b[0m filepath \u001b[38;5;241m=\u001b[39m \u001b[38;5;124m'\u001b[39m\u001b[38;5;124m/Users/siddharthsaha/Desktop/my_code/ai-learn/code/novels_generator/data/marrying_the_enemy.epub\u001b[39m\u001b[38;5;124m'\u001b[39m\n\u001b[0;32m----> 3\u001b[0m \u001b[43mreader\u001b[49m\u001b[38;5;241;43m.\u001b[39;49m\u001b[43mread\u001b[49m\u001b[43m(\u001b[49m\u001b[43mfilepath\u001b[49m\u001b[43m)\u001b[49m\n",
      "File \u001b[0;32m~/Desktop/my_code/ai-learn/code/novels_generator/code/epub_reader.py:19\u001b[0m, in \u001b[0;36mEPubReader.read\u001b[0;34m(self, filepath)\u001b[0m\n\u001b[1;32m     16\u001b[0m book \u001b[38;5;241m=\u001b[39m epub\u001b[38;5;241m.\u001b[39mread_epub(filepath)\n\u001b[1;32m     18\u001b[0m \u001b[38;5;66;03m# let's print all the metadata\u001b[39;00m\n\u001b[0;32m---> 19\u001b[0m metadata \u001b[38;5;241m=\u001b[39m \u001b[43mbook\u001b[49m\u001b[38;5;241;43m.\u001b[39;49m\u001b[43mget_metadata\u001b[49m\u001b[43m(\u001b[49m\u001b[43m)\u001b[49m\n\u001b[1;32m     20\u001b[0m \u001b[38;5;28;01mfor\u001b[39;00m namespace, meta_list \u001b[38;5;129;01min\u001b[39;00m metadata\u001b[38;5;241m.\u001b[39mitems():\n\u001b[1;32m     21\u001b[0m     \u001b[38;5;28mprint\u001b[39m(\u001b[38;5;124mf\u001b[39m\u001b[38;5;124m'\u001b[39m\u001b[38;5;124mNamespace: \u001b[39m\u001b[38;5;132;01m{\u001b[39;00mnamespace\u001b[38;5;132;01m}\u001b[39;00m\u001b[38;5;124m'\u001b[39m)\n",
      "\u001b[0;31mTypeError\u001b[0m: EpubBook.get_metadata() missing 2 required positional arguments: 'namespace' and 'name'"
     ]
    }
   ],
   "source": [
    "reader = EPubReader()\n",
    "filepath = '/Users/siddharthsaha/Desktop/my_code/ai-learn/code/novels_generator/data/marrying_the_enemy.epub'\n",
    "reader.read(filepath)"
   ]
  },
  {
   "cell_type": "code",
   "execution_count": 7,
   "metadata": {},
   "outputs": [
    {
     "data": {
      "text/plain": [
       "'/Users/siddharthsaha/Desktop/my_code/ai-learn/code/gpt'"
      ]
     },
     "execution_count": 7,
     "metadata": {},
     "output_type": "execute_result"
    }
   ],
   "source": [
    "import os\n",
    "os.getcwd()"
   ]
  },
  {
   "cell_type": "code",
   "execution_count": null,
   "metadata": {},
   "outputs": [],
   "source": []
  }
 ],
 "metadata": {
  "kernelspec": {
   "display_name": "Python (AI Learn Env)",
   "language": "python",
   "name": "ai_learn_env"
  },
  "language_info": {
   "codemirror_mode": {
    "name": "ipython",
    "version": 3
   },
   "file_extension": ".py",
   "mimetype": "text/x-python",
   "name": "python",
   "nbconvert_exporter": "python",
   "pygments_lexer": "ipython3",
   "version": "3.12.4"
  }
 },
 "nbformat": 4,
 "nbformat_minor": 2
}
