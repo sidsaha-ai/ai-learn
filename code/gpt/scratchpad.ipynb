{
 "cells": [
  {
   "cell_type": "code",
   "execution_count": 1,
   "metadata": {},
   "outputs": [],
   "source": [
    "from novels_generator.code.epub_reader import EPubReader"
   ]
  },
  {
   "cell_type": "code",
   "execution_count": 2,
   "metadata": {},
   "outputs": [
    {
     "name": "stderr",
     "output_type": "stream",
     "text": [
      "/Users/siddharthsaha/python_envs/ai_learn_env/lib/python3.12/site-packages/ebooklib/epub.py:1395: UserWarning: In the future version we will turn default option ignore_ncx to True.\n",
      "  warnings.warn('In the future version we will turn default option ignore_ncx to True.')\n",
      "/Users/siddharthsaha/python_envs/ai_learn_env/lib/python3.12/site-packages/ebooklib/epub.py:1423: FutureWarning: This search incorrectly ignores the root element, and will be fixed in a future version.  If you rely on the current behaviour, change it to './/xmlns:rootfile[@media-type]'\n",
      "  for root_file in tree.findall('//xmlns:rootfile[@media-type]', namespaces={'xmlns': NAMESPACES['CONTAINERNS']}):\n"
     ]
    }
   ],
   "source": [
    "reader = EPubReader()\n",
    "filepath = '/Users/siddharthsaha/Desktop/my_code/ai-learn/code/novels_generator/data/marrying_the_enemy.epub'\n",
    "book = reader.read(filepath)"
   ]
  },
  {
   "cell_type": "code",
   "execution_count": 4,
   "metadata": {},
   "outputs": [],
   "source": [
    "from tokenizers import Tokenizer"
   ]
  },
  {
   "cell_type": "code",
   "execution_count": 6,
   "metadata": {},
   "outputs": [],
   "source": [
    "from tokenizers import Tokenizer\n",
    "from tokenizers.models import BPE\n",
    "from tokenizers.trainers import BpeTrainer\n",
    "\n",
    "tokenizer = Tokenizer(BPE(unk_token='[UNK]'))"
   ]
  },
  {
   "cell_type": "code",
   "execution_count": 8,
   "metadata": {},
   "outputs": [
    {
     "name": "stdout",
     "output_type": "stream",
     "text": [
      "Help on built-in function train_from_iterator:\n",
      "\n",
      "train_from_iterator(self, iterator, trainer=None, length=None) method of tokenizers.Tokenizer instance\n",
      "    Train the Tokenizer using the provided iterator.\n",
      "\n",
      "    You can provide anything that is a Python Iterator\n",
      "\n",
      "        * A list of sequences :obj:`List[str]`\n",
      "        * A generator that yields :obj:`str` or :obj:`List[str]`\n",
      "        * A Numpy array of strings\n",
      "        * ...\n",
      "\n",
      "    Args:\n",
      "        iterator (:obj:`Iterator`):\n",
      "            Any iterator over strings or list of strings\n",
      "\n",
      "        trainer (:obj:`~tokenizers.trainers.Trainer`, `optional`):\n",
      "            An optional trainer that should be used to train our Model\n",
      "\n",
      "        length (:obj:`int`, `optional`):\n",
      "            The total number of sequences in the iterator. This is used to\n",
      "            provide meaningful progress tracking\n",
      "\n"
     ]
    }
   ],
   "source": [
    "help(tokenizer.train_from_iterator)"
   ]
  },
  {
   "cell_type": "code",
   "execution_count": null,
   "metadata": {},
   "outputs": [],
   "source": []
  }
 ],
 "metadata": {
  "kernelspec": {
   "display_name": "Python (AI Learn Env)",
   "language": "python",
   "name": "ai_learn_env"
  },
  "language_info": {
   "codemirror_mode": {
    "name": "ipython",
    "version": 3
   },
   "file_extension": ".py",
   "mimetype": "text/x-python",
   "name": "python",
   "nbconvert_exporter": "python",
   "pygments_lexer": "ipython3",
   "version": "3.12.4"
  }
 },
 "nbformat": 4,
 "nbformat_minor": 2
}
